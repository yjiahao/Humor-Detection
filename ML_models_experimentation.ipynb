{
 "cells": [
  {
   "cell_type": "markdown",
   "metadata": {},
   "source": [
    "## In this notebook, we will explore various ML algorithms\n",
    "\n",
    "1. Random forest\n",
    "2. Naive Bayes\n",
    "3. Logistic Regression\n",
    "4. Support Vector Machines\n",
    "5. Gradient Boosted Classifiers"
   ]
  },
  {
   "cell_type": "code",
   "execution_count": null,
   "metadata": {},
   "outputs": [],
   "source": []
  }
 ],
 "metadata": {
  "language_info": {
   "name": "python"
  }
 },
 "nbformat": 4,
 "nbformat_minor": 2
}
